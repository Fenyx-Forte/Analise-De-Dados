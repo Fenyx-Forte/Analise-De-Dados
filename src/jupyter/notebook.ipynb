{
 "cells": [
  {
   "cell_type": "code",
   "execution_count": 2,
   "metadata": {},
   "outputs": [],
   "source": [
    "import os\n",
    "import sys\n",
    "\n",
    "# Adiciona a pasta 'src' ao sys.path\n",
    "sys.path.append(os.path.abspath(os.path.join(\"../..\", \"src\")))"
   ]
  },
  {
   "cell_type": "code",
   "execution_count": 3,
   "metadata": {},
   "outputs": [],
   "source": [
    "from datetime import datetime\n",
    "\n",
    "import duckdb\n",
    "import polars as pl\n",
    "from loguru import logger"
   ]
  },
  {
   "cell_type": "code",
   "execution_count": 6,
   "metadata": {},
   "outputs": [],
   "source": [
    "from modulos.contrato_de_dados import contrato_entrada, contrato_saida\n",
    "from modulos.uteis import (\n",
    "    carregar_env,\n",
    "    configuracao_loguru,\n",
    "    configuracao_polars,\n",
    ")"
   ]
  },
  {
   "cell_type": "code",
   "execution_count": 7,
   "metadata": {},
   "outputs": [],
   "source": [
    "configuracao_loguru.configuracao_loguru()\n",
    "configuracao_polars.configuracao_polars(\"../../config/polars.json\")"
   ]
  },
  {
   "cell_type": "code",
   "execution_count": 8,
   "metadata": {},
   "outputs": [
    {
     "data": {
      "text/html": [
       "<div><style>\n",
       ".dataframe > thead > tr,\n",
       ".dataframe > tbody > tr {\n",
       "  text-align: right;\n",
       "  white-space: pre-wrap;\n",
       "}\n",
       "</style>\n",
       "<small>shape: (509, 8)</small><table border=\"1\" class=\"dataframe\"><thead><tr><th>marca</th><th>nome</th><th>preco_velho_reais</th><th>preco_velho_centavos</th><th>preco_novo_reais</th><th>preco_novo_centavos</th><th>nota_avaliacao</th><th>num_avaliacoes</th></tr><tr><td>str</td><td>str</td><td>str</td><td>str</td><td>str</td><td>str</td><td>str</td><td>str</td></tr></thead><tbody><tr><td>&quot;ADIDAS&quot;</td><td>&quot;Tênis Masculino Duramo Sl adid…</td><td>&quot;499&quot;</td><td>&quot;99&quot;</td><td>&quot;356&quot;</td><td>&quot;35&quot;</td><td>null</td><td>null</td></tr><tr><td>&quot;RAYCONN&quot;</td><td>&quot;Tenis 4 Molas Masculino Corrid…</td><td>&quot;186&quot;</td><td>&quot;95&quot;</td><td>&quot;164&quot;</td><td>&quot;51&quot;</td><td>&quot;4.3&quot;</td><td>&quot;(74)&quot;</td></tr><tr><td>&quot;VILI&quot;</td><td>&quot;Tênis Masculino Academia Camin…</td><td>&quot;108&quot;</td><td>&quot;39&quot;</td><td>&quot;10&quot;</td><td>&quot;54&quot;</td><td>&quot;4.5&quot;</td><td>&quot;(2488)&quot;</td></tr><tr><td>&quot;FILA&quot;</td><td>&quot;Tênis Fila Improve Masculino P…</td><td>&quot;399&quot;</td><td>&quot;90&quot;</td><td>&quot;39&quot;</td><td>&quot;99&quot;</td><td>null</td><td>null</td></tr><tr><td>&quot;FILA&quot;</td><td>&quot;Tênis Fila Venture Tracer Masc…</td><td>&quot;439&quot;</td><td>&quot;98&quot;</td><td>&quot;42&quot;</td><td>&quot;66&quot;</td><td>null</td><td>null</td></tr><tr><td>&hellip;</td><td>&hellip;</td><td>&hellip;</td><td>&hellip;</td><td>&hellip;</td><td>&hellip;</td><td>&hellip;</td><td>&hellip;</td></tr><tr><td>null</td><td>&quot;Tênis Okley Na Promoção Bravo …</td><td>&quot;109&quot;</td><td>&quot;90&quot;</td><td>&quot;36&quot;</td><td>&quot;63&quot;</td><td>&quot;4.5&quot;</td><td>&quot;(95)&quot;</td></tr><tr><td>&quot;OLYMPIKUS&quot;</td><td>&quot;Olympikus Cyber 3 Masculino Ad…</td><td>&quot;197&quot;</td><td>&quot;99&quot;</td><td>&quot;19&quot;</td><td>&quot;24&quot;</td><td>&quot;4.7&quot;</td><td>&quot;(43)&quot;</td></tr><tr><td>&quot;OLYMPIKUS&quot;</td><td>&quot;Olympikus CORRIDA Swift 4 Femi…</td><td>&quot;279&quot;</td><td>&quot;99&quot;</td><td>&quot;31&quot;</td><td>&quot;11&quot;</td><td>&quot;4.8&quot;</td><td>&quot;(1115)&quot;</td></tr><tr><td>&quot;OLYMPIKUS&quot;</td><td>&quot;Olympikus CORRIDA Voa 2 Mascul…</td><td>&quot;261&quot;</td><td>&quot;62&quot;</td><td>&quot;32&quot;</td><td>null</td><td>&quot;4.8&quot;</td><td>&quot;(509)&quot;</td></tr><tr><td>&quot;MIZUNO&quot;</td><td>&quot;Mizuno Space 3 Masculino Adult…</td><td>&quot;299&quot;</td><td>&quot;98&quot;</td><td>&quot;33&quot;</td><td>&quot;33&quot;</td><td>&quot;4.7&quot;</td><td>&quot;(1674)&quot;</td></tr></tbody></table></div>"
      ],
      "text/plain": [
       "shape: (509, 8)\n",
       "┌───────────┬────────────┬────────────┬────────────┬───────────┬───────────┬───────────┬───────────┐\n",
       "│ marca     ┆ nome       ┆ preco_velh ┆ preco_velh ┆ preco_nov ┆ preco_nov ┆ nota_aval ┆ num_avali │\n",
       "│ ---       ┆ ---        ┆ o_reais    ┆ o_centavos ┆ o_reais   ┆ o_centavo ┆ iacao     ┆ acoes     │\n",
       "│ str       ┆ str        ┆ ---        ┆ ---        ┆ ---       ┆ s         ┆ ---       ┆ ---       │\n",
       "│           ┆            ┆ str        ┆ str        ┆ str       ┆ ---       ┆ str       ┆ str       │\n",
       "│           ┆            ┆            ┆            ┆           ┆ str       ┆           ┆           │\n",
       "╞═══════════╪════════════╪════════════╪════════════╪═══════════╪═══════════╪═══════════╪═══════════╡\n",
       "│ ADIDAS    ┆ Tênis      ┆ 499        ┆ 99         ┆ 356       ┆ 35        ┆ null      ┆ null      │\n",
       "│           ┆ Masculino  ┆            ┆            ┆           ┆           ┆           ┆           │\n",
       "│           ┆ Duramo Sl  ┆            ┆            ┆           ┆           ┆           ┆           │\n",
       "│           ┆ adid…      ┆            ┆            ┆           ┆           ┆           ┆           │\n",
       "│ RAYCONN   ┆ Tenis 4    ┆ 186        ┆ 95         ┆ 164       ┆ 51        ┆ 4.3       ┆ (74)      │\n",
       "│           ┆ Molas      ┆            ┆            ┆           ┆           ┆           ┆           │\n",
       "│           ┆ Masculino  ┆            ┆            ┆           ┆           ┆           ┆           │\n",
       "│           ┆ Corrid…    ┆            ┆            ┆           ┆           ┆           ┆           │\n",
       "│ VILI      ┆ Tênis      ┆ 108        ┆ 39         ┆ 10        ┆ 54        ┆ 4.5       ┆ (2488)    │\n",
       "│           ┆ Masculino  ┆            ┆            ┆           ┆           ┆           ┆           │\n",
       "│           ┆ Academia   ┆            ┆            ┆           ┆           ┆           ┆           │\n",
       "│           ┆ Camin…     ┆            ┆            ┆           ┆           ┆           ┆           │\n",
       "│ FILA      ┆ Tênis Fila ┆ 399        ┆ 90         ┆ 39        ┆ 99        ┆ null      ┆ null      │\n",
       "│           ┆ Improve    ┆            ┆            ┆           ┆           ┆           ┆           │\n",
       "│           ┆ Masculino  ┆            ┆            ┆           ┆           ┆           ┆           │\n",
       "│           ┆ P…         ┆            ┆            ┆           ┆           ┆           ┆           │\n",
       "│ FILA      ┆ Tênis Fila ┆ 439        ┆ 98         ┆ 42        ┆ 66        ┆ null      ┆ null      │\n",
       "│           ┆ Venture    ┆            ┆            ┆           ┆           ┆           ┆           │\n",
       "│           ┆ Tracer     ┆            ┆            ┆           ┆           ┆           ┆           │\n",
       "│           ┆ Masc…      ┆            ┆            ┆           ┆           ┆           ┆           │\n",
       "│ …         ┆ …          ┆ …          ┆ …          ┆ …         ┆ …         ┆ …         ┆ …         │\n",
       "│ null      ┆ Tênis      ┆ 109        ┆ 90         ┆ 36        ┆ 63        ┆ 4.5       ┆ (95)      │\n",
       "│           ┆ Okley Na   ┆            ┆            ┆           ┆           ┆           ┆           │\n",
       "│           ┆ Promoção   ┆            ┆            ┆           ┆           ┆           ┆           │\n",
       "│           ┆ Bravo …    ┆            ┆            ┆           ┆           ┆           ┆           │\n",
       "│ OLYMPIKUS ┆ Olympikus  ┆ 197        ┆ 99         ┆ 19        ┆ 24        ┆ 4.7       ┆ (43)      │\n",
       "│           ┆ Cyber 3    ┆            ┆            ┆           ┆           ┆           ┆           │\n",
       "│           ┆ Masculino  ┆            ┆            ┆           ┆           ┆           ┆           │\n",
       "│           ┆ Ad…        ┆            ┆            ┆           ┆           ┆           ┆           │\n",
       "│ OLYMPIKUS ┆ Olympikus  ┆ 279        ┆ 99         ┆ 31        ┆ 11        ┆ 4.8       ┆ (1115)    │\n",
       "│           ┆ CORRIDA    ┆            ┆            ┆           ┆           ┆           ┆           │\n",
       "│           ┆ Swift 4    ┆            ┆            ┆           ┆           ┆           ┆           │\n",
       "│           ┆ Femi…      ┆            ┆            ┆           ┆           ┆           ┆           │\n",
       "│ OLYMPIKUS ┆ Olympikus  ┆ 261        ┆ 62         ┆ 32        ┆ null      ┆ 4.8       ┆ (509)     │\n",
       "│           ┆ CORRIDA    ┆            ┆            ┆           ┆           ┆           ┆           │\n",
       "│           ┆ Voa 2      ┆            ┆            ┆           ┆           ┆           ┆           │\n",
       "│           ┆ Mascul…    ┆            ┆            ┆           ┆           ┆           ┆           │\n",
       "│ MIZUNO    ┆ Mizuno     ┆ 299        ┆ 98         ┆ 33        ┆ 33        ┆ 4.7       ┆ (1674)    │\n",
       "│           ┆ Space 3    ┆            ┆            ┆           ┆           ┆           ┆           │\n",
       "│           ┆ Masculino  ┆            ┆            ┆           ┆           ┆           ┆           │\n",
       "│           ┆ Adult…     ┆            ┆            ┆           ┆           ┆           ┆           │\n",
       "└───────────┴────────────┴────────────┴────────────┴───────────┴───────────┴───────────┴───────────┘"
      ]
     },
     "execution_count": 8,
     "metadata": {},
     "output_type": "execute_result"
    }
   ],
   "source": [
    "df = pl.read_json(\"../../dados/nao_processados/mercado_livre.json\")\n",
    "\n",
    "df"
   ]
  },
  {
   "cell_type": "code",
   "execution_count": 5,
   "metadata": {},
   "outputs": [],
   "source": [
    "# Adicionando novas colunas\n",
    "# - Preco_Velho\n",
    "# Caso preco_velho_real e preco_velho_centavos nao sejam null -> \"preco_velho_real\" + \".\" + \"preco_velho_centavos\"\n",
    "# Caso preco_velho_real seja null -> null\n",
    "# Caso preco_velho_centavo seja null -> \"preco_velho_real\"\n",
    "# - Preco_Novo\n",
    "# Mesma coisa do Preco_Velho"
   ]
  },
  {
   "cell_type": "code",
   "execution_count": 6,
   "metadata": {},
   "outputs": [
    {
     "data": {
      "text/html": [
       "<div><style>\n",
       ".dataframe > thead > tr,\n",
       ".dataframe > tbody > tr {\n",
       "  text-align: right;\n",
       "  white-space: pre-wrap;\n",
       "}\n",
       "</style>\n",
       "<small>shape: (509, 3)</small><table border=\"1\" class=\"dataframe\"><thead><tr><th>preco_velho_reais</th><th>preco_velho_centavos</th><th>preco_velho</th></tr><tr><td>str</td><td>str</td><td>f32</td></tr></thead><tbody><tr><td>&quot;499&quot;</td><td>&quot;99&quot;</td><td>499,99</td></tr><tr><td>&quot;186&quot;</td><td>&quot;95&quot;</td><td>186,95</td></tr><tr><td>&quot;108&quot;</td><td>&quot;39&quot;</td><td>108,39</td></tr><tr><td>&quot;399&quot;</td><td>&quot;90&quot;</td><td>399,90</td></tr><tr><td>&quot;439&quot;</td><td>&quot;98&quot;</td><td>439,98</td></tr><tr><td>&hellip;</td><td>&hellip;</td><td>&hellip;</td></tr><tr><td>&quot;109&quot;</td><td>&quot;90&quot;</td><td>109,90</td></tr><tr><td>&quot;197&quot;</td><td>&quot;99&quot;</td><td>197,99</td></tr><tr><td>&quot;279&quot;</td><td>&quot;99&quot;</td><td>279,99</td></tr><tr><td>&quot;261&quot;</td><td>&quot;62&quot;</td><td>261,62</td></tr><tr><td>&quot;299&quot;</td><td>&quot;98&quot;</td><td>299,98</td></tr></tbody></table></div>"
      ],
      "text/plain": [
       "shape: (509, 3)\n",
       "┌───────────────────┬──────────────────────┬─────────────┐\n",
       "│ preco_velho_reais ┆ preco_velho_centavos ┆ preco_velho │\n",
       "│ ---               ┆ ---                  ┆ ---         │\n",
       "│ str               ┆ str                  ┆ f32         │\n",
       "╞═══════════════════╪══════════════════════╪═════════════╡\n",
       "│ 499               ┆ 99                   ┆ 499,99      │\n",
       "│ 186               ┆ 95                   ┆ 186,95      │\n",
       "│ 108               ┆ 39                   ┆ 108,39      │\n",
       "│ 399               ┆ 90                   ┆ 399,90      │\n",
       "│ 439               ┆ 98                   ┆ 439,98      │\n",
       "│ …                 ┆ …                    ┆ …           │\n",
       "│ 109               ┆ 90                   ┆ 109,90      │\n",
       "│ 197               ┆ 99                   ┆ 197,99      │\n",
       "│ 279               ┆ 99                   ┆ 279,99      │\n",
       "│ 261               ┆ 62                   ┆ 261,62      │\n",
       "│ 299               ┆ 98                   ┆ 299,98      │\n",
       "└───────────────────┴──────────────────────┴─────────────┘"
      ]
     },
     "execution_count": 6,
     "metadata": {},
     "output_type": "execute_result"
    }
   ],
   "source": [
    "df.select(\n",
    "    pl.col(\"preco_velho_reais\"),\n",
    "    pl.col(\"preco_velho_centavos\"),\n",
    "    pl.when(\n",
    "        (pl.col(\"preco_velho_reais\").is_not_null())\n",
    "        & (pl.col(\"preco_velho_centavos\").is_not_null())\n",
    "    )\n",
    "    .then(\n",
    "        pl.col(\"preco_velho_reais\").str.replace(\".\", \"\", literal=True)\n",
    "        + \".\"\n",
    "        + pl.col(\"preco_velho_centavos\")\n",
    "    )\n",
    "    .otherwise(\n",
    "        pl.when(pl.col(\"preco_velho_centavos\").is_null())\n",
    "        .then(pl.col(\"preco_velho_reais\").str.replace(\".\", \"\", literal=True))\n",
    "        .otherwise(None)\n",
    "    )\n",
    "    .alias(\"preco_velho\")\n",
    "    .cast(pl.Float32),\n",
    ")"
   ]
  },
  {
   "cell_type": "code",
   "execution_count": 7,
   "metadata": {},
   "outputs": [
    {
     "data": {
      "text/html": [
       "<div><style>\n",
       ".dataframe > thead > tr,\n",
       ".dataframe > tbody > tr {\n",
       "  text-align: right;\n",
       "  white-space: pre-wrap;\n",
       "}\n",
       "</style>\n",
       "<small>shape: (509, 3)</small><table border=\"1\" class=\"dataframe\"><thead><tr><th>preco_novo_reais</th><th>preco_novo_centavos</th><th>preco_novo</th></tr><tr><td>str</td><td>str</td><td>f32</td></tr></thead><tbody><tr><td>&quot;356&quot;</td><td>&quot;35&quot;</td><td>356,35</td></tr><tr><td>&quot;164&quot;</td><td>&quot;51&quot;</td><td>164,51</td></tr><tr><td>&quot;10&quot;</td><td>&quot;54&quot;</td><td>10,54</td></tr><tr><td>&quot;39&quot;</td><td>&quot;99&quot;</td><td>39,99</td></tr><tr><td>&quot;42&quot;</td><td>&quot;66&quot;</td><td>42,66</td></tr><tr><td>&hellip;</td><td>&hellip;</td><td>&hellip;</td></tr><tr><td>&quot;36&quot;</td><td>&quot;63&quot;</td><td>36,63</td></tr><tr><td>&quot;19&quot;</td><td>&quot;24&quot;</td><td>19,24</td></tr><tr><td>&quot;31&quot;</td><td>&quot;11&quot;</td><td>31,11</td></tr><tr><td>&quot;32&quot;</td><td>null</td><td>32,00</td></tr><tr><td>&quot;33&quot;</td><td>&quot;33&quot;</td><td>33,33</td></tr></tbody></table></div>"
      ],
      "text/plain": [
       "shape: (509, 3)\n",
       "┌──────────────────┬─────────────────────┬────────────┐\n",
       "│ preco_novo_reais ┆ preco_novo_centavos ┆ preco_novo │\n",
       "│ ---              ┆ ---                 ┆ ---        │\n",
       "│ str              ┆ str                 ┆ f32        │\n",
       "╞══════════════════╪═════════════════════╪════════════╡\n",
       "│ 356              ┆ 35                  ┆ 356,35     │\n",
       "│ 164              ┆ 51                  ┆ 164,51     │\n",
       "│ 10               ┆ 54                  ┆ 10,54      │\n",
       "│ 39               ┆ 99                  ┆ 39,99      │\n",
       "│ 42               ┆ 66                  ┆ 42,66      │\n",
       "│ …                ┆ …                   ┆ …          │\n",
       "│ 36               ┆ 63                  ┆ 36,63      │\n",
       "│ 19               ┆ 24                  ┆ 19,24      │\n",
       "│ 31               ┆ 11                  ┆ 31,11      │\n",
       "│ 32               ┆ null                ┆ 32,00      │\n",
       "│ 33               ┆ 33                  ┆ 33,33      │\n",
       "└──────────────────┴─────────────────────┴────────────┘"
      ]
     },
     "execution_count": 7,
     "metadata": {},
     "output_type": "execute_result"
    }
   ],
   "source": [
    "df.select(\n",
    "    pl.col(\"preco_novo_reais\"),\n",
    "    pl.col(\"preco_novo_centavos\"),\n",
    "    pl.when(\n",
    "        (pl.col(\"preco_novo_reais\").is_not_null())\n",
    "        & (pl.col(\"preco_novo_centavos\").is_not_null())\n",
    "    )\n",
    "    .then(\n",
    "        pl.col(\"preco_novo_reais\").str.replace(\".\", \"\", literal=True)\n",
    "        + \".\"\n",
    "        + pl.col(\"preco_novo_centavos\")\n",
    "    )\n",
    "    .otherwise(\n",
    "        pl.when(pl.col(\"preco_novo_centavos\").is_null())\n",
    "        .then(pl.col(\"preco_novo_reais\").str.replace(\".\", \"\", literal=True))\n",
    "        .otherwise(None)\n",
    "    )\n",
    "    .alias(\"preco_novo\")\n",
    "    .cast(pl.Float32),\n",
    ")"
   ]
  },
  {
   "cell_type": "code",
   "execution_count": 26,
   "metadata": {},
   "outputs": [],
   "source": [
    "data = datetime.now()\n",
    "ano = data.year\n",
    "mes = data.month\n",
    "dia = data.day\n",
    "hora = data.hour\n",
    "minuto = data.minute\n",
    "segundo = data.second"
   ]
  },
  {
   "cell_type": "code",
   "execution_count": 27,
   "metadata": {},
   "outputs": [
    {
     "data": {
      "text/html": [
       "<div><style>\n",
       ".dataframe > thead > tr,\n",
       ".dataframe > tbody > tr {\n",
       "  text-align: right;\n",
       "  white-space: pre-wrap;\n",
       "}\n",
       "</style>\n",
       "<small>shape: (1, 1)</small><table border=\"1\" class=\"dataframe\"><thead><tr><th>datetime</th></tr><tr><td>datetime[μs]</td></tr></thead><tbody><tr><td>2024-08-07 12:22:39</td></tr></tbody></table></div>"
      ],
      "text/plain": [
       "shape: (1, 1)\n",
       "┌─────────────────────┐\n",
       "│ datetime            │\n",
       "│ ---                 │\n",
       "│ datetime[μs]        │\n",
       "╞═════════════════════╡\n",
       "│ 2024-08-07 12:22:39 │\n",
       "└─────────────────────┘"
      ]
     },
     "execution_count": 27,
     "metadata": {},
     "output_type": "execute_result"
    }
   ],
   "source": [
    "df.select(pl.datetime(ano, mes, dia, hora, minuto, segundo))"
   ]
  },
  {
   "cell_type": "code",
   "execution_count": 16,
   "metadata": {},
   "outputs": [
    {
     "data": {
      "text/html": [
       "<div><style>\n",
       ".dataframe > thead > tr,\n",
       ".dataframe > tbody > tr {\n",
       "  text-align: right;\n",
       "  white-space: pre-wrap;\n",
       "}\n",
       "</style>\n",
       "<small>shape: (1, 1)</small><table border=\"1\" class=\"dataframe\"><thead><tr><th>_fonte</th></tr><tr><td>str</td></tr></thead><tbody><tr><td>&quot;https://lista.mercadolivre.com…</td></tr></tbody></table></div>"
      ],
      "text/plain": [
       "shape: (1, 1)\n",
       "┌─────────────────────────────────┐\n",
       "│ _fonte                          │\n",
       "│ ---                             │\n",
       "│ str                             │\n",
       "╞═════════════════════════════════╡\n",
       "│ https://lista.mercadolivre.com… │\n",
       "└─────────────────────────────────┘"
      ]
     },
     "execution_count": 16,
     "metadata": {},
     "output_type": "execute_result"
    }
   ],
   "source": [
    "df.select(\n",
    "    pl.lit(\"https://lista.mercadolivre.com.br/tenis-corrida-masculino\").alias(\n",
    "        \"_fonte\"\n",
    "    )\n",
    ")"
   ]
  },
  {
   "cell_type": "code",
   "execution_count": 28,
   "metadata": {},
   "outputs": [
    {
     "data": {
      "text/html": [
       "<div><style>\n",
       ".dataframe > thead > tr,\n",
       ".dataframe > tbody > tr {\n",
       "  text-align: right;\n",
       "  white-space: pre-wrap;\n",
       "}\n",
       "</style>\n",
       "<small>shape: (509, 10)</small><table border=\"1\" class=\"dataframe\"><thead><tr><th>marca</th><th>nome</th><th>preco_velho_reais</th><th>preco_velho_centavos</th><th>preco_novo_reais</th><th>preco_novo_centavos</th><th>nota_avaliacao</th><th>num_avaliacoes</th><th>_fonte</th><th>datetime</th></tr><tr><td>str</td><td>str</td><td>str</td><td>str</td><td>str</td><td>str</td><td>str</td><td>str</td><td>str</td><td>datetime[μs]</td></tr></thead><tbody><tr><td>&quot;ADIDAS&quot;</td><td>&quot;Tênis Masculino Duramo Sl adid…</td><td>&quot;499&quot;</td><td>&quot;99&quot;</td><td>&quot;356&quot;</td><td>&quot;35&quot;</td><td>null</td><td>null</td><td>&quot;https://lista.mercadolivre.com…</td><td>2024-08-07 12:22:39</td></tr><tr><td>&quot;RAYCONN&quot;</td><td>&quot;Tenis 4 Molas Masculino Corrid…</td><td>&quot;186&quot;</td><td>&quot;95&quot;</td><td>&quot;164&quot;</td><td>&quot;51&quot;</td><td>&quot;4.3&quot;</td><td>&quot;(74)&quot;</td><td>&quot;https://lista.mercadolivre.com…</td><td>2024-08-07 12:22:39</td></tr><tr><td>&quot;VILI&quot;</td><td>&quot;Tênis Masculino Academia Camin…</td><td>&quot;108&quot;</td><td>&quot;39&quot;</td><td>&quot;10&quot;</td><td>&quot;54&quot;</td><td>&quot;4.5&quot;</td><td>&quot;(2488)&quot;</td><td>&quot;https://lista.mercadolivre.com…</td><td>2024-08-07 12:22:39</td></tr><tr><td>&quot;FILA&quot;</td><td>&quot;Tênis Fila Improve Masculino P…</td><td>&quot;399&quot;</td><td>&quot;90&quot;</td><td>&quot;39&quot;</td><td>&quot;99&quot;</td><td>null</td><td>null</td><td>&quot;https://lista.mercadolivre.com…</td><td>2024-08-07 12:22:39</td></tr><tr><td>&quot;FILA&quot;</td><td>&quot;Tênis Fila Venture Tracer Masc…</td><td>&quot;439&quot;</td><td>&quot;98&quot;</td><td>&quot;42&quot;</td><td>&quot;66&quot;</td><td>null</td><td>null</td><td>&quot;https://lista.mercadolivre.com…</td><td>2024-08-07 12:22:39</td></tr><tr><td>&hellip;</td><td>&hellip;</td><td>&hellip;</td><td>&hellip;</td><td>&hellip;</td><td>&hellip;</td><td>&hellip;</td><td>&hellip;</td><td>&hellip;</td><td>&hellip;</td></tr><tr><td>null</td><td>&quot;Tênis Okley Na Promoção Bravo …</td><td>&quot;109&quot;</td><td>&quot;90&quot;</td><td>&quot;36&quot;</td><td>&quot;63&quot;</td><td>&quot;4.5&quot;</td><td>&quot;(95)&quot;</td><td>&quot;https://lista.mercadolivre.com…</td><td>2024-08-07 12:22:39</td></tr><tr><td>&quot;OLYMPIKUS&quot;</td><td>&quot;Olympikus Cyber 3 Masculino Ad…</td><td>&quot;197&quot;</td><td>&quot;99&quot;</td><td>&quot;19&quot;</td><td>&quot;24&quot;</td><td>&quot;4.7&quot;</td><td>&quot;(43)&quot;</td><td>&quot;https://lista.mercadolivre.com…</td><td>2024-08-07 12:22:39</td></tr><tr><td>&quot;OLYMPIKUS&quot;</td><td>&quot;Olympikus CORRIDA Swift 4 Femi…</td><td>&quot;279&quot;</td><td>&quot;99&quot;</td><td>&quot;31&quot;</td><td>&quot;11&quot;</td><td>&quot;4.8&quot;</td><td>&quot;(1115)&quot;</td><td>&quot;https://lista.mercadolivre.com…</td><td>2024-08-07 12:22:39</td></tr><tr><td>&quot;OLYMPIKUS&quot;</td><td>&quot;Olympikus CORRIDA Voa 2 Mascul…</td><td>&quot;261&quot;</td><td>&quot;62&quot;</td><td>&quot;32&quot;</td><td>null</td><td>&quot;4.8&quot;</td><td>&quot;(509)&quot;</td><td>&quot;https://lista.mercadolivre.com…</td><td>2024-08-07 12:22:39</td></tr><tr><td>&quot;MIZUNO&quot;</td><td>&quot;Mizuno Space 3 Masculino Adult…</td><td>&quot;299&quot;</td><td>&quot;98&quot;</td><td>&quot;33&quot;</td><td>&quot;33&quot;</td><td>&quot;4.7&quot;</td><td>&quot;(1674)&quot;</td><td>&quot;https://lista.mercadolivre.com…</td><td>2024-08-07 12:22:39</td></tr></tbody></table></div>"
      ],
      "text/plain": [
       "shape: (509, 10)\n",
       "┌─────────┬─────────┬─────────┬─────────┬─────────┬─────────┬─────────┬─────────┬─────────┬────────┐\n",
       "│ marca   ┆ nome    ┆ preco_v ┆ preco_v ┆ preco_n ┆ preco_n ┆ nota_av ┆ num_ava ┆ _fonte  ┆ dateti │\n",
       "│ ---     ┆ ---     ┆ elho_re ┆ elho_ce ┆ ovo_rea ┆ ovo_cen ┆ aliacao ┆ liacoes ┆ ---     ┆ me     │\n",
       "│ str     ┆ str     ┆ ais     ┆ ntavos  ┆ is      ┆ tavos   ┆ ---     ┆ ---     ┆ str     ┆ ---    │\n",
       "│         ┆         ┆ ---     ┆ ---     ┆ ---     ┆ ---     ┆ str     ┆ str     ┆         ┆ dateti │\n",
       "│         ┆         ┆ str     ┆ str     ┆ str     ┆ str     ┆         ┆         ┆         ┆ me[μs] │\n",
       "╞═════════╪═════════╪═════════╪═════════╪═════════╪═════════╪═════════╪═════════╪═════════╪════════╡\n",
       "│ ADIDAS  ┆ Tênis   ┆ 499     ┆ 99      ┆ 356     ┆ 35      ┆ null    ┆ null    ┆ https:/ ┆ 2024-0 │\n",
       "│         ┆ Masculi ┆         ┆         ┆         ┆         ┆         ┆         ┆ /lista. ┆ 8-07   │\n",
       "│         ┆ no      ┆         ┆         ┆         ┆         ┆         ┆         ┆ mercado ┆ 12:22: │\n",
       "│         ┆ Duramo  ┆         ┆         ┆         ┆         ┆         ┆         ┆ livre.c ┆ 39     │\n",
       "│         ┆ Sl      ┆         ┆         ┆         ┆         ┆         ┆         ┆ om…     ┆        │\n",
       "│         ┆ adid…   ┆         ┆         ┆         ┆         ┆         ┆         ┆         ┆        │\n",
       "│ RAYCONN ┆ Tenis 4 ┆ 186     ┆ 95      ┆ 164     ┆ 51      ┆ 4.3     ┆ (74)    ┆ https:/ ┆ 2024-0 │\n",
       "│         ┆ Molas   ┆         ┆         ┆         ┆         ┆         ┆         ┆ /lista. ┆ 8-07   │\n",
       "│         ┆ Masculi ┆         ┆         ┆         ┆         ┆         ┆         ┆ mercado ┆ 12:22: │\n",
       "│         ┆ no      ┆         ┆         ┆         ┆         ┆         ┆         ┆ livre.c ┆ 39     │\n",
       "│         ┆ Corrid… ┆         ┆         ┆         ┆         ┆         ┆         ┆ om…     ┆        │\n",
       "│ VILI    ┆ Tênis   ┆ 108     ┆ 39      ┆ 10      ┆ 54      ┆ 4.5     ┆ (2488)  ┆ https:/ ┆ 2024-0 │\n",
       "│         ┆ Masculi ┆         ┆         ┆         ┆         ┆         ┆         ┆ /lista. ┆ 8-07   │\n",
       "│         ┆ no Acad ┆         ┆         ┆         ┆         ┆         ┆         ┆ mercado ┆ 12:22: │\n",
       "│         ┆ emia    ┆         ┆         ┆         ┆         ┆         ┆         ┆ livre.c ┆ 39     │\n",
       "│         ┆ Camin…  ┆         ┆         ┆         ┆         ┆         ┆         ┆ om…     ┆        │\n",
       "│ FILA    ┆ Tênis   ┆ 399     ┆ 90      ┆ 39      ┆ 99      ┆ null    ┆ null    ┆ https:/ ┆ 2024-0 │\n",
       "│         ┆ Fila    ┆         ┆         ┆         ┆         ┆         ┆         ┆ /lista. ┆ 8-07   │\n",
       "│         ┆ Improve ┆         ┆         ┆         ┆         ┆         ┆         ┆ mercado ┆ 12:22: │\n",
       "│         ┆ Masculi ┆         ┆         ┆         ┆         ┆         ┆         ┆ livre.c ┆ 39     │\n",
       "│         ┆ no P…   ┆         ┆         ┆         ┆         ┆         ┆         ┆ om…     ┆        │\n",
       "│ FILA    ┆ Tênis   ┆ 439     ┆ 98      ┆ 42      ┆ 66      ┆ null    ┆ null    ┆ https:/ ┆ 2024-0 │\n",
       "│         ┆ Fila    ┆         ┆         ┆         ┆         ┆         ┆         ┆ /lista. ┆ 8-07   │\n",
       "│         ┆ Venture ┆         ┆         ┆         ┆         ┆         ┆         ┆ mercado ┆ 12:22: │\n",
       "│         ┆ Tracer  ┆         ┆         ┆         ┆         ┆         ┆         ┆ livre.c ┆ 39     │\n",
       "│         ┆ Masc…   ┆         ┆         ┆         ┆         ┆         ┆         ┆ om…     ┆        │\n",
       "│ …       ┆ …       ┆ …       ┆ …       ┆ …       ┆ …       ┆ …       ┆ …       ┆ …       ┆ …      │\n",
       "│ null    ┆ Tênis   ┆ 109     ┆ 90      ┆ 36      ┆ 63      ┆ 4.5     ┆ (95)    ┆ https:/ ┆ 2024-0 │\n",
       "│         ┆ Okley   ┆         ┆         ┆         ┆         ┆         ┆         ┆ /lista. ┆ 8-07   │\n",
       "│         ┆ Na Prom ┆         ┆         ┆         ┆         ┆         ┆         ┆ mercado ┆ 12:22: │\n",
       "│         ┆ oção    ┆         ┆         ┆         ┆         ┆         ┆         ┆ livre.c ┆ 39     │\n",
       "│         ┆ Bravo … ┆         ┆         ┆         ┆         ┆         ┆         ┆ om…     ┆        │\n",
       "│ OLYMPIK ┆ Olympik ┆ 197     ┆ 99      ┆ 19      ┆ 24      ┆ 4.7     ┆ (43)    ┆ https:/ ┆ 2024-0 │\n",
       "│ US      ┆ us      ┆         ┆         ┆         ┆         ┆         ┆         ┆ /lista. ┆ 8-07   │\n",
       "│         ┆ Cyber 3 ┆         ┆         ┆         ┆         ┆         ┆         ┆ mercado ┆ 12:22: │\n",
       "│         ┆ Masculi ┆         ┆         ┆         ┆         ┆         ┆         ┆ livre.c ┆ 39     │\n",
       "│         ┆ no Ad…  ┆         ┆         ┆         ┆         ┆         ┆         ┆ om…     ┆        │\n",
       "│ OLYMPIK ┆ Olympik ┆ 279     ┆ 99      ┆ 31      ┆ 11      ┆ 4.8     ┆ (1115)  ┆ https:/ ┆ 2024-0 │\n",
       "│ US      ┆ us      ┆         ┆         ┆         ┆         ┆         ┆         ┆ /lista. ┆ 8-07   │\n",
       "│         ┆ CORRIDA ┆         ┆         ┆         ┆         ┆         ┆         ┆ mercado ┆ 12:22: │\n",
       "│         ┆ Swift 4 ┆         ┆         ┆         ┆         ┆         ┆         ┆ livre.c ┆ 39     │\n",
       "│         ┆ Femi…   ┆         ┆         ┆         ┆         ┆         ┆         ┆ om…     ┆        │\n",
       "│ OLYMPIK ┆ Olympik ┆ 261     ┆ 62      ┆ 32      ┆ null    ┆ 4.8     ┆ (509)   ┆ https:/ ┆ 2024-0 │\n",
       "│ US      ┆ us      ┆         ┆         ┆         ┆         ┆         ┆         ┆ /lista. ┆ 8-07   │\n",
       "│         ┆ CORRIDA ┆         ┆         ┆         ┆         ┆         ┆         ┆ mercado ┆ 12:22: │\n",
       "│         ┆ Voa 2   ┆         ┆         ┆         ┆         ┆         ┆         ┆ livre.c ┆ 39     │\n",
       "│         ┆ Mascul… ┆         ┆         ┆         ┆         ┆         ┆         ┆ om…     ┆        │\n",
       "│ MIZUNO  ┆ Mizuno  ┆ 299     ┆ 98      ┆ 33      ┆ 33      ┆ 4.7     ┆ (1674)  ┆ https:/ ┆ 2024-0 │\n",
       "│         ┆ Space 3 ┆         ┆         ┆         ┆         ┆         ┆         ┆ /lista. ┆ 8-07   │\n",
       "│         ┆ Masculi ┆         ┆         ┆         ┆         ┆         ┆         ┆ mercado ┆ 12:22: │\n",
       "│         ┆ no      ┆         ┆         ┆         ┆         ┆         ┆         ┆ livre.c ┆ 39     │\n",
       "│         ┆ Adult…  ┆         ┆         ┆         ┆         ┆         ┆         ┆ om…     ┆        │\n",
       "└─────────┴─────────┴─────────┴─────────┴─────────┴─────────┴─────────┴─────────┴─────────┴────────┘"
      ]
     },
     "execution_count": 28,
     "metadata": {},
     "output_type": "execute_result"
    }
   ],
   "source": [
    "df.with_columns(\n",
    "    pl.lit(\"https://lista.mercadolivre.com.br/tenis-corrida-masculino\").alias(\n",
    "        \"_fonte\"\n",
    "    ),\n",
    "    pl.datetime(ano, mes, dia, hora, minuto, segundo).alias(\"_data_coleta\"),\n",
    ")"
   ]
  }
 ],
 "metadata": {
  "kernelspec": {
   "display_name": ".venv",
   "language": "python",
   "name": "python3"
  },
  "language_info": {
   "codemirror_mode": {
    "name": "ipython",
    "version": 3
   },
   "file_extension": ".py",
   "mimetype": "text/x-python",
   "name": "python",
   "nbconvert_exporter": "python",
   "pygments_lexer": "ipython3",
   "version": "3.12.4"
  }
 },
 "nbformat": 4,
 "nbformat_minor": 2
}
